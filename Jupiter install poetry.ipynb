{
 "cells": [
  {
   "cell_type": "code",
   "execution_count": null,
   "id": "d1a93377",
   "metadata": {},
   "outputs": [],
   "source": [
    "new folder\n",
    "poetry init - иницирует создание проетка без базовой структуры, толко файл томл\n",
    "poetry install  создать связи\n",
    "poetry add -D -vv jupyter notebook \n",
    "# флаги -Д - девелоперская зависимость, -вв чтобы был многословным\n",
    "poetry run jupyter notebook - запутсить ноутбук"
   ]
  }
 ],
 "metadata": {
  "kernelspec": {
   "display_name": "Python 3 (ipykernel)",
   "language": "python",
   "name": "python3"
  },
  "language_info": {
   "codemirror_mode": {
    "name": "ipython",
    "version": 3
   },
   "file_extension": ".py",
   "mimetype": "text/x-python",
   "name": "python",
   "nbconvert_exporter": "python",
   "pygments_lexer": "ipython3",
   "version": "3.10.4"
  }
 },
 "nbformat": 4,
 "nbformat_minor": 5
}
